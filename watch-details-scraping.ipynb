{
 "cells": [
  {
   "cell_type": "code",
   "execution_count": 38,
   "id": "e588de4a",
   "metadata": {},
   "outputs": [],
   "source": [
    "from bs4 import BeautifulSoup\n",
    "import requests\n",
    "\n",
    "url = \"https://www.flipkart.com/watches/pr?sid=r18&p%5B%5D=facets.brand%255B%255D%3DTitan\"\n",
    "r = requests.get(url)\n",
    "\n",
    "soup =BeautifulSoup(r.text)"
   ]
  },
  {
   "cell_type": "code",
   "execution_count": 40,
   "id": "524b3d6a",
   "metadata": {},
   "outputs": [
    {
     "name": "stdout",
     "output_type": "stream",
     "text": [
      "file saved\n"
     ]
    }
   ],
   "source": [
    "\n",
    "with open(\"watch_details.txt\",\"w\",encoding=\"utf-8\")as f:\n",
    "    model_one = soup.select(\"a.IRpwTa\")\n",
    "    f.write(f\"watch_one: {model_one[0].text}\\n\")\n",
    "    price = soup.select(\"div._30jeq3\")\n",
    "    f.write(f\"price: {price[0].text}\\n\")\n",
    "    offer = soup.select(\"div._3Ay6Sb\")\n",
    "    f.write(f\"offer: {offer[0].text}\\n\")\n",
    "    model_two = soup.select(\"a.IRpwTa\")\n",
    "    f.write(f\"watch_two: {model_two[1].text}\\n\")\n",
    "    price2 = soup.select(\"div._30jeq3\")\n",
    "    f.write(f\"price_two: {price2[1].text}\\n\")\n",
    "    offer2 = soup.select(\"div._3Ay6Sb\")\n",
    "    f.write(f\"offer_two: {offer2[1].text}\\n\")\n",
    "    model_three = soup.select(\"a.IRpwTa\")\n",
    "    f.write(f\"watch_three: {model_three[2].text}\\n\")\n",
    "    price3 = soup.select(\"div._30jeq3\")\n",
    "    f.write(f\"price_three: {price3[2].text}\\n\")\n",
    "    offer3 = soup.select(\"div._3Ay6Sb\")\n",
    "    f.write(f\"offer_three: {offer3[2].text}\\n\")\n",
    "    model_four = soup.select(\"a.IRpwTa\")\n",
    "    f.write(f\"watch_four: {model_four[3].text}\\n\")\n",
    "    price4 = soup.select(\"div._30jeq3\")\n",
    "    f.write(f\"price_four: {price4[3].text}\\n\")\n",
    "    offer4 = soup.select(\"div._3Ay6Sb\")\n",
    "    f.write(f\"offer_four: {offer4[3].text}\\n\")\n",
    "    model_five = soup.select(\"a.IRpwTa\")\n",
    "    f.write(f\"watch_five: {model_five[4].text}\\n\")\n",
    "    price5 = soup.select(\"div._30jeq3\")\n",
    "    f.write(f\"price_five: {price5[4].text}\\n\")\n",
    "    offer5 = soup.select(\"div._3Ay6Sb\")\n",
    "    f.write(f\"offer_five: {offer4[5].text}\\n\")\n",
    "    \n",
    "print(f\"file saved\")\n",
    "    \n",
    "    \n",
    "    \n",
    "    \n",
    "    "
   ]
  }
 ],
 "metadata": {
  "kernelspec": {
   "display_name": "Python 3",
   "language": "python",
   "name": "python3"
  },
  "language_info": {
   "codemirror_mode": {
    "name": "ipython",
    "version": 3
   },
   "file_extension": ".py",
   "mimetype": "text/x-python",
   "name": "python",
   "nbconvert_exporter": "python",
   "pygments_lexer": "ipython3",
   "version": "3.8.8"
  }
 },
 "nbformat": 4,
 "nbformat_minor": 5
}
