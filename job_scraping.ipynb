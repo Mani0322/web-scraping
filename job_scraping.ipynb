{
 "cells": [
  {
   "cell_type": "code",
   "execution_count": 75,
   "id": "4401b216",
   "metadata": {},
   "outputs": [
    {
     "name": "stdout",
     "output_type": "stream",
     "text": [
      "file saved\n"
     ]
    }
   ],
   "source": [
    "import requests\n",
    "from bs4 import BeautifulSoup\n",
    "\n",
    "url = \"https://in.indeed.com/jobs?q=developer&l\"\n",
    "r = requests.get(url)\n",
    "soup = BeautifulSoup(r.text)\n",
    "with open(\"job_details.txt\",\"w\",encoding=\"utf-8\")as f:\n",
    "    \n",
    "    \n",
    "    job = soup.select(\"table.jobCard_mainContent\")\n",
    "    f.write(f\"job_1: {job[0].text}\\n\")\n",
    "    \n",
    "    job2= soup.select(\"table.jobCard_mainContent\")\n",
    "    f.write(f\"job_2: {job2[1].text}\\n\")\n",
    "    \n",
    "    job3= soup.select(\"table.jobCard_mainContent\")\n",
    "    f.write(f\"job_3: {job3[2].text}\\n\")\n",
    "    \n",
    "    job4 = soup.select(\"table.jobCard_mainContent\")\n",
    "    f.write(f\"job_4: {job4[3].text}\\n\")\n",
    "    \n",
    "    job5 = soup.select(\"table.jobCard_mainContent\")\n",
    "    f.write(f\"job_5: {job5[4].text}\\n\")\n",
    "    \n",
    "    job6 = soup.select(\"table.jobCard_mainContent\")\n",
    "    f.write(f\"job_6: {job6[5].text}\\n\")\n",
    "    \n",
    "    job7 = soup.select(\"table.jobCard_mainContent\")\n",
    "    f.write(f\"job_7: {job7[6].text}\\n\")\n",
    "    \n",
    "    job8 = soup.select(\"table.jobCard_mainContent\")\n",
    "    f.write(f\"job_8: {job8[7].text}\\n\")\n",
    "    \n",
    "    job9 = soup.select(\"table.jobCard_mainContent\")\n",
    "    f.write(f\"job_9: {job9[8].text}\\n\")\n",
    "    \n",
    "    job10 = soup.select(\"table.jobCard_mainContent\")\n",
    "    f.write(f\"job_10: {job10[9].text}\\n\")\n",
    "    \n",
    "    job11 = soup.select(\"table.jobCard_mainContent\")\n",
    "    f.write(f\"job_11: {job11[10].text}\\n\")\n",
    "    \n",
    "    job12 = soup.select(\"table.jobCard_mainContent\")\n",
    "    f.write(f\"job_12: {job12[11].text}\\n\")\n",
    "    \n",
    "    job13 = soup.select(\"table.jobCard_mainContent\")\n",
    "    f.write(f\"job_13: {job13[12].text}\\n\")\n",
    "    \n",
    "    job14 = soup.select(\"table.jobCard_mainContent\")\n",
    "    f.write(f\"job_14: {job14[13].text}\\n\")\n",
    "    \n",
    "    job15 = soup.select(\"table.jobCard_mainContent\")\n",
    "    f.write(f\"job_15: {job15[14].text}\\n\")\n",
    "    \n",
    "print(f\"file saved\")\n",
    "    \n",
    "    \n",
    "    \n",
    "\n",
    "    \n"
   ]
  },
  {
   "cell_type": "code",
   "execution_count": null,
   "id": "0ffa9698",
   "metadata": {},
   "outputs": [],
   "source": []
  }
 ],
 "metadata": {
  "kernelspec": {
   "display_name": "Python 3",
   "language": "python",
   "name": "python3"
  },
  "language_info": {
   "codemirror_mode": {
    "name": "ipython",
    "version": 3
   },
   "file_extension": ".py",
   "mimetype": "text/x-python",
   "name": "python",
   "nbconvert_exporter": "python",
   "pygments_lexer": "ipython3",
   "version": "3.8.8"
  }
 },
 "nbformat": 4,
 "nbformat_minor": 5
}
