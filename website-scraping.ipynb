{
 "cells": [
  {
   "cell_type": "code",
   "execution_count": 35,
   "id": "ec91f492",
   "metadata": {},
   "outputs": [
    {
     "name": "stdout",
     "output_type": "stream",
     "text": [
      "file saved\n"
     ]
    }
   ],
   "source": [
    "from bs4 import BeautifulSoup\n",
    "import requests\n",
    "\n",
    "url = \"https://www.flipkart.com/search?q=mobile&otracker=search&otracker1=search&marketplace=FLIPKART&as-show=on&as=off\"\n",
    "r = requests.get(url)\n",
    "soup = BeautifulSoup(r.text)\n",
    "with open(\"mobile_details.txt\",\"w\")as f:\n",
    "    \n",
    "    mobile = soup.select(\"div._4rR01T\")\n",
    "    f.write(f\"mobile_name: {mobile[0].string}\\n\")\n",
    "    stars = soup.select(\"div._3LWZlK\")\n",
    "    f.write(f\"stars: {stars[0].text}\\n\")\n",
    "    reviews = soup.select(\"span._2_R_DZ\")\n",
    "    f.write(f\"reviews: {reviews[0].text}\\n\")\n",
    "    storage = soup.select(\"ul._1xgFaf li.rgWa7D\")\n",
    "    f.write(f\"storage : {storage[0].text}\\n\")\n",
    "    display = soup.select(\"div.fMghEO li.rgWa7D\")\n",
    "    f.write(f\"display: {display[1].text}\\n\")\n",
    "    camera = soup.select(\"li.rgWa7D\")\n",
    "    f.write(f\"camera: {camera[2].text}\\n\")\n",
    "    battery = soup.select(\"li.rgWa7D\")\n",
    "    f.write(f\"battery: {battery[3].text}\\n\")\n",
    "    processor = soup.select(\"li.rgWa7D\")\n",
    "    f.write(f\"processor: {processor[4].text}\\n\")\n",
    "    warranty = soup.select(\"li.rgWa7D\")\n",
    "    f.write(f\"warranty: {warranty[5].text}\\n\")\n",
    "print(f\"file saved\")\n",
    "    \n"
   ]
  },
  {
   "cell_type": "code",
   "execution_count": null,
   "id": "8997ed75",
   "metadata": {},
   "outputs": [],
   "source": []
  },
  {
   "cell_type": "code",
   "execution_count": null,
   "id": "19da34a5",
   "metadata": {},
   "outputs": [],
   "source": []
  },
  {
   "cell_type": "code",
   "execution_count": null,
   "id": "d01daf75",
   "metadata": {},
   "outputs": [],
   "source": []
  }
 ],
 "metadata": {
  "kernelspec": {
   "display_name": "Python 3",
   "language": "python",
   "name": "python3"
  },
  "language_info": {
   "codemirror_mode": {
    "name": "ipython",
    "version": 3
   },
   "file_extension": ".py",
   "mimetype": "text/x-python",
   "name": "python",
   "nbconvert_exporter": "python",
   "pygments_lexer": "ipython3",
   "version": "3.8.8"
  }
 },
 "nbformat": 4,
 "nbformat_minor": 5
}
